{
 "cells": [
  {
   "cell_type": "code",
   "execution_count": null,
   "id": "388f01d0-0338-47d9-82ed-f06e4a84abff",
   "metadata": {},
   "outputs": [],
   "source": []
  }
 ],
 "metadata": {
  "kernelspec": {
   "display_name": "",
   "name": ""
  },
  "language_info": {
   "name": ""
  }
 },
 "nbformat": 4,
 "nbformat_minor": 5
}
